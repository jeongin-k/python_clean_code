{
  "nbformat": 4,
  "nbformat_minor": 0,
  "metadata": {
    "colab": {
      "provenance": []
    },
    "kernelspec": {
      "name": "python3",
      "display_name": "Python 3"
    },
    "language_info": {
      "name": "python"
    }
  },
  "cells": [
    {
      "cell_type": "code",
      "execution_count": 2,
      "metadata": {
        "id": "tEQCIHwIJt2O"
      },
      "outputs": [],
      "source": [
        "from enum import Enum\n",
        "\n",
        "class EventType(Enum):\n",
        "    IMPORTANT_EVENT = 1\n",
        "    LESS_IMPORTANT_EVENT = 2\n",
        "\n",
        "class Event:\n",
        "    def __init__(self, event_type):\n",
        "        self.type = event_type\n",
        "\n",
        "class EventObserver:\n",
        "    def __init__(self):\n",
        "        pass\n",
        "\n",
        "    def notify(self, event, timeout_seconds):\n",
        "        pass\n",
        "\n",
        "    def notify_registration(self, new_observer):\n",
        "        pass\n",
        "\n",
        "\n",
        "class EventDispatcher:\n",
        "    def __init__(self):\n",
        "        self.observer_list = []\n",
        "\n",
        "    def register_observer(self, event_type, observer):\n",
        "        for existing_observer in self.observer_list:\n",
        "            existing_observer[1].notify_registration(observer)\n",
        "\n",
        "        self.observer_list.append((event_type, observer))\n",
        "\n",
        "    def dispatch_event(self, event, timeout_seconds):\n",
        "        for event_type, observer in self.observer_list:\n",
        "            if event_type == event.type:\n",
        "                observer.notify(event, timeout_seconds)"
      ]
    },
    {
      "cell_type": "code",
      "source": [
        "import unittest\n",
        "from unittest import mock\n",
        "from unittest.mock import Mock\n",
        "\n",
        "class ObserverMock(EventObserver):\n",
        "    def __init__(self):\n",
        "        self.mock = Mock()\n",
        "\n",
        "    def notify(self, event, time_out_in_seconds):\n",
        "        self.mock.notify(event, time_out_in_seconds)\n",
        "\n",
        "    def notify_registration(self, new_observer):\n",
        "        self.mock.notify_registration(new_observer)\n",
        "\n",
        "\n",
        "class TestEventDispatcher(unittest.TestCase):\n",
        "    def setUp(self):\n",
        "        self.event = Event(EventType.IMPORTANT_EVENT)\n",
        "        self.dispatcher = EventDispatcher()\n",
        "        self.observer = ObserverMock()\n",
        "        self.observer2 = ObserverMock()\n",
        "\n",
        "    def tearDown(self):\n",
        "        pass\n",
        "\n",
        "    def test_event_without_registrations_results_into_no_calls(self):\n",
        "        self.dispatcher.dispatch_event(self.event, 10)\n",
        "\n",
        "    def test_event_with_registration_for_event_results_into_callback(self):\n",
        "        with mock.patch.object(self.observer.mock, 'notify') as mock_notify:\n",
        "            self.event.type = EventType.IMPORTANT_EVENT\n",
        "\n",
        "            self.dispatcher.register_observer(EventType.IMPORTANT_EVENT, self.observer)\n",
        "            self.dispatcher.dispatch_event(self.event, 10)\n",
        "\n",
        "            mock_notify.assert_called_once_with(self.event, 10)\n",
        "\n",
        "\n",
        "    def test_different_event_with_registration_does_not_result_into_callback(self):\n",
        "        self.event.type = EventType.LESS_IMPORTANT_EVENT\n",
        "        self.dispatcher.register_observer(EventType.IMPORTANT_EVENT, self.observer)\n",
        "        self.dispatcher.dispatch_event(self.event, 10)\n",
        "\n",
        "    def test_register_two_observers_results_into_two_calls_and_registration_notification(self):\n",
        "        with mock.patch.object(self.observer.mock, 'notify') as mock_notify, \\\n",
        "             mock.patch.object(self.observer2.mock, 'notify') as mock_notify2, \\\n",
        "             mock.patch.object(self.observer.mock, 'notify_registration') as mock_registration:\n",
        "\n",
        "            self.event.type = EventType.IMPORTANT_EVENT\n",
        "            self.dispatcher.register_observer(EventType.IMPORTANT_EVENT, self.observer)\n",
        "            self.dispatcher.register_observer(EventType.IMPORTANT_EVENT, self.observer2)\n",
        "            self.dispatcher.dispatch_event(self.event, 10)\n",
        "\n",
        "            mock_notify.assert_called_once_with(self.event, 10)\n",
        "            mock_notify2.assert_called_once_with(self.event, 10)\n",
        "            mock_registration.assert_called_once_with(self.observer2)\n",
        "\n",
        "\n",
        "unittest.main(argv=[''], verbosity=2, exit=False)"
      ],
      "metadata": {
        "colab": {
          "base_uri": "https://localhost:8080/"
        },
        "id": "m-8AsvJ8fkxV",
        "outputId": "9c593adc-c46f-46c2-9a0c-d97cc952ce2e"
      },
      "execution_count": 4,
      "outputs": [
        {
          "output_type": "stream",
          "name": "stderr",
          "text": [
            "test_different_event_with_registration_does_not_result_into_callback (__main__.TestEventDispatcher) ... ok\n",
            "test_event_with_registration_for_event_results_into_callback (__main__.TestEventDispatcher) ... ok\n",
            "test_event_without_registrations_results_into_no_calls (__main__.TestEventDispatcher) ... ok\n",
            "test_register_two_observers_results_into_two_calls_and_registration_notification (__main__.TestEventDispatcher) ... ok\n",
            "\n",
            "----------------------------------------------------------------------\n",
            "Ran 4 tests in 0.034s\n",
            "\n",
            "OK\n"
          ]
        },
        {
          "output_type": "execute_result",
          "data": {
            "text/plain": [
              "<unittest.main.TestProgram at 0x78c1c110ac50>"
            ]
          },
          "metadata": {},
          "execution_count": 4
        }
      ]
    },
    {
      "cell_type": "code",
      "source": [],
      "metadata": {
        "id": "wCXpSiEKgZTk"
      },
      "execution_count": null,
      "outputs": []
    }
  ]
}